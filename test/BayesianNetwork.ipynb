{
  "nbformat": 4,
  "nbformat_minor": 0,
  "metadata": {
    "colab": {
      "provenance": [],
      "authorship_tag": "ABX9TyOzbq6RJwrChFlveL/hNVa5",
      "include_colab_link": true
    },
    "kernelspec": {
      "name": "python3",
      "display_name": "Python 3"
    },
    "language_info": {
      "name": "python"
    }
  },
  "cells": [
    {
      "cell_type": "markdown",
      "metadata": {
        "id": "view-in-github",
        "colab_type": "text"
      },
      "source": [
        "<a href=\"https://colab.research.google.com/github/jhparkland/BayesCOCL/blob/KNH/test/BayesianNetwork.ipynb\" target=\"_parent\"><img src=\"https://colab.research.google.com/assets/colab-badge.svg\" alt=\"Open In Colab\"/></a>"
      ]
    },
    {
      "cell_type": "code",
      "source": [
        "!pip install pgmpy"
      ],
      "metadata": {
        "colab": {
          "base_uri": "https://localhost:8080/"
        },
        "id": "rdKh3kdPTSEz",
        "outputId": "7903c8c0-61be-470b-bf48-54dbeda2f963"
      },
      "execution_count": 26,
      "outputs": [
        {
          "output_type": "stream",
          "name": "stdout",
          "text": [
            "Requirement already satisfied: pgmpy in /usr/local/lib/python3.10/dist-packages (0.1.24)\n",
            "Requirement already satisfied: networkx in /usr/local/lib/python3.10/dist-packages (from pgmpy) (3.2.1)\n",
            "Requirement already satisfied: numpy in /usr/local/lib/python3.10/dist-packages (from pgmpy) (1.23.5)\n",
            "Requirement already satisfied: scipy in /usr/local/lib/python3.10/dist-packages (from pgmpy) (1.11.3)\n",
            "Requirement already satisfied: scikit-learn in /usr/local/lib/python3.10/dist-packages (from pgmpy) (1.2.2)\n",
            "Requirement already satisfied: pandas in /usr/local/lib/python3.10/dist-packages (from pgmpy) (1.5.3)\n",
            "Requirement already satisfied: pyparsing in /usr/local/lib/python3.10/dist-packages (from pgmpy) (3.1.1)\n",
            "Requirement already satisfied: torch in /usr/local/lib/python3.10/dist-packages (from pgmpy) (2.1.0+cu118)\n",
            "Requirement already satisfied: statsmodels in /usr/local/lib/python3.10/dist-packages (from pgmpy) (0.14.0)\n",
            "Requirement already satisfied: tqdm in /usr/local/lib/python3.10/dist-packages (from pgmpy) (4.66.1)\n",
            "Requirement already satisfied: joblib in /usr/local/lib/python3.10/dist-packages (from pgmpy) (1.3.2)\n",
            "Requirement already satisfied: opt-einsum in /usr/local/lib/python3.10/dist-packages (from pgmpy) (3.3.0)\n",
            "Requirement already satisfied: python-dateutil>=2.8.1 in /usr/local/lib/python3.10/dist-packages (from pandas->pgmpy) (2.8.2)\n",
            "Requirement already satisfied: pytz>=2020.1 in /usr/local/lib/python3.10/dist-packages (from pandas->pgmpy) (2023.3.post1)\n",
            "Requirement already satisfied: threadpoolctl>=2.0.0 in /usr/local/lib/python3.10/dist-packages (from scikit-learn->pgmpy) (3.2.0)\n",
            "Requirement already satisfied: patsy>=0.5.2 in /usr/local/lib/python3.10/dist-packages (from statsmodels->pgmpy) (0.5.3)\n",
            "Requirement already satisfied: packaging>=21.3 in /usr/local/lib/python3.10/dist-packages (from statsmodels->pgmpy) (23.2)\n",
            "Requirement already satisfied: filelock in /usr/local/lib/python3.10/dist-packages (from torch->pgmpy) (3.13.1)\n",
            "Requirement already satisfied: typing-extensions in /usr/local/lib/python3.10/dist-packages (from torch->pgmpy) (4.5.0)\n",
            "Requirement already satisfied: sympy in /usr/local/lib/python3.10/dist-packages (from torch->pgmpy) (1.12)\n",
            "Requirement already satisfied: jinja2 in /usr/local/lib/python3.10/dist-packages (from torch->pgmpy) (3.1.2)\n",
            "Requirement already satisfied: fsspec in /usr/local/lib/python3.10/dist-packages (from torch->pgmpy) (2023.6.0)\n",
            "Requirement already satisfied: triton==2.1.0 in /usr/local/lib/python3.10/dist-packages (from torch->pgmpy) (2.1.0)\n",
            "Requirement already satisfied: six in /usr/local/lib/python3.10/dist-packages (from patsy>=0.5.2->statsmodels->pgmpy) (1.16.0)\n",
            "Requirement already satisfied: MarkupSafe>=2.0 in /usr/local/lib/python3.10/dist-packages (from jinja2->torch->pgmpy) (2.1.3)\n",
            "Requirement already satisfied: mpmath>=0.19 in /usr/local/lib/python3.10/dist-packages (from sympy->torch->pgmpy) (1.3.0)\n"
          ]
        }
      ]
    },
    {
      "cell_type": "code",
      "source": [
        "import pandas as pd\n",
        "import numpy as np\n",
        "from pgmpy.models import BayesianNetwork\n",
        "from pgmpy.factors.discrete import TabularCPD\n",
        "\n",
        "#임의로 지정\n",
        "cpd_S = TabularCPD('S', 2, [[0.4], [0.6]])\n",
        "cpd_C = TabularCPD('C', 3, [[0.4], [0.3], [0.3]])\n",
        "cpd_E = TabularCPD('E', 3, [[0.4], [0.3], [0.3]])\n",
        "\n",
        "#확률 없어서 임의의로 지정했습니다.\n",
        "cpd_L_on_SCE = TabularCPD('L', 2, np.array([[0.9, 0.7, 0.6, 0.8, 0.5, 0.4, 0.7, 0.6, 0.5, 0.3, 0.4, 0.2, 0.5, 0.3, 0.2, 0.4, 0.3, 0.2],[0.1, 0.3, 0.4, 0.2, 0.5, 0.6, 0.3, 0.4, 0.5, 0.7, 0.6, 0.8, 0.5, 0.7, 0.8, 0.6, 0.7, 0.8]]),evidence=['S', 'C', 'E'], evidence_card=[2, 3, 3])\n",
        "\n",
        "# S,E,C = 0: 많음 1:보통 2:적음 L = 0: 적절 1: 부적절\n",
        "print(cpd_L_on_SCE)"
      ],
      "metadata": {
        "id": "VerdVEmlJbrl",
        "colab": {
          "base_uri": "https://localhost:8080/"
        },
        "outputId": "a1c26ab0-514c-4e0c-e936-d5c0cfb5fc2e"
      },
      "execution_count": 33,
      "outputs": [
        {
          "output_type": "stream",
          "name": "stdout",
          "text": [
            "+------+------+------+------+------+------+-----+------+------+------+------+------+------+\n",
            "| S    | S(0) | S(0) | S(0) | S(0) | S(0) | ... | S(1) | S(1) | S(1) | S(1) | S(1) | S(1) |\n",
            "+------+------+------+------+------+------+-----+------+------+------+------+------+------+\n",
            "| C    | C(0) | C(0) | C(0) | C(1) | C(1) | ... | C(1) | C(1) | C(1) | C(2) | C(2) | C(2) |\n",
            "+------+------+------+------+------+------+-----+------+------+------+------+------+------+\n",
            "| E    | E(0) | E(1) | E(2) | E(0) | E(1) | ... | E(0) | E(1) | E(2) | E(0) | E(1) | E(2) |\n",
            "+------+------+------+------+------+------+-----+------+------+------+------+------+------+\n",
            "| L(0) | 0.9  | 0.7  | 0.6  | 0.8  | 0.5  | ... | 0.5  | 0.3  | 0.2  | 0.4  | 0.3  | 0.2  |\n",
            "+------+------+------+------+------+------+-----+------+------+------+------+------+------+\n",
            "| L(1) | 0.1  | 0.3  | 0.4  | 0.2  | 0.5  | ... | 0.5  | 0.7  | 0.8  | 0.6  | 0.7  | 0.8  |\n",
            "+------+------+------+------+------+------+-----+------+------+------+------+------+------+\n"
          ]
        }
      ]
    },
    {
      "cell_type": "code",
      "execution_count": 30,
      "metadata": {
        "colab": {
          "base_uri": "https://localhost:8080/"
        },
        "id": "t7FLnvRfImJt",
        "outputId": "ead06abb-a93d-43e8-bb76-bdf5b6d8f2a5"
      },
      "outputs": [
        {
          "output_type": "execute_result",
          "data": {
            "text/plain": [
              "True"
            ]
          },
          "metadata": {},
          "execution_count": 30
        }
      ],
      "source": [
        "\n",
        "#베이지안 네트워크에 모델 추가\n",
        "model = BayesianNetwork([('S', 'L'), ('E', 'L'), ('C', 'L')])\n",
        "\n",
        "model.add_cpds(cpd_S, cpd_C, cpd_E, cpd_L_on_SCE)\n",
        "\n",
        "#모델 검사\n",
        "model.check_model()"
      ]
    }
  ]
}